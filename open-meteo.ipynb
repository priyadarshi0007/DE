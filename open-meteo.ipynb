{
 "cells": [
  {
   "cell_type": "code",
   "execution_count": 8,
   "id": "19f86dba",
   "metadata": {},
   "outputs": [
    {
     "name": "stdout",
     "output_type": "stream",
     "text": [
      "Collecting openmeteo-requests\n",
      "  Downloading openmeteo_requests-1.7.1-py3-none-any.whl.metadata (10 kB)\n",
      "Collecting niquests>=3.15.2 (from openmeteo-requests)\n",
      "  Downloading niquests-3.15.2-py3-none-any.whl.metadata (16 kB)\n",
      "Collecting openmeteo-sdk>=1.20.1 (from openmeteo-requests)\n",
      "  Downloading openmeteo_sdk-1.20.1-py3-none-any.whl.metadata (935 bytes)\n",
      "Requirement already satisfied: charset-normalizer<4,>=2 in ./virtualenv/lib/python3.13/site-packages (from niquests>=3.15.2->openmeteo-requests) (3.4.3)\n",
      "Collecting urllib3-future<3,>=2.13.903 (from niquests>=3.15.2->openmeteo-requests)\n",
      "  Downloading urllib3_future-2.13.905-py3-none-any.whl.metadata (15 kB)\n",
      "Collecting wassima<3,>=1.0.1 (from niquests>=3.15.2->openmeteo-requests)\n",
      "  Downloading wassima-2.0.1-py3-none-any.whl.metadata (3.7 kB)\n",
      "Collecting flatbuffers==25.2.10 (from openmeteo-sdk>=1.20.1->openmeteo-requests)\n",
      "  Downloading flatbuffers-25.2.10-py2.py3-none-any.whl.metadata (875 bytes)\n",
      "Collecting h11<1.0.0,>=0.11.0 (from urllib3-future<3,>=2.13.903->niquests>=3.15.2->openmeteo-requests)\n",
      "  Downloading h11-0.16.0-py3-none-any.whl.metadata (8.3 kB)\n",
      "Collecting jh2<6.0.0,>=5.0.3 (from urllib3-future<3,>=2.13.903->niquests>=3.15.2->openmeteo-requests)\n",
      "  Downloading jh2-5.0.9-cp37-abi3-macosx_10_12_x86_64.macosx_11_0_arm64.macosx_10_12_universal2.whl.metadata (4.0 kB)\n",
      "Collecting qh3<2.0.0,>=1.5.4 (from urllib3-future<3,>=2.13.903->niquests>=3.15.2->openmeteo-requests)\n",
      "  Downloading qh3-1.5.4-cp37-abi3-macosx_10_12_x86_64.macosx_11_0_arm64.macosx_10_12_universal2.whl.metadata (4.7 kB)\n",
      "Downloading openmeteo_requests-1.7.1-py3-none-any.whl (6.4 kB)\n",
      "Downloading niquests-3.15.2-py3-none-any.whl (167 kB)\n",
      "Downloading openmeteo_sdk-1.20.1-py3-none-any.whl (15 kB)\n",
      "Downloading flatbuffers-25.2.10-py2.py3-none-any.whl (30 kB)\n",
      "Downloading urllib3_future-2.13.905-py3-none-any.whl (670 kB)\n",
      "\u001b[2K   \u001b[90m━━━━━━━━━━━━━━━━━━━━━━━━━━━━━━━━━━━━━━━━\u001b[0m \u001b[32m671.0/671.0 kB\u001b[0m \u001b[31m5.8 MB/s\u001b[0m eta \u001b[36m0:00:00\u001b[0m\n",
      "\u001b[?25hDownloading wassima-2.0.1-py3-none-any.whl (145 kB)\n",
      "Downloading h11-0.16.0-py3-none-any.whl (37 kB)\n",
      "Downloading jh2-5.0.9-cp37-abi3-macosx_10_12_x86_64.macosx_11_0_arm64.macosx_10_12_universal2.whl (635 kB)\n",
      "\u001b[2K   \u001b[90m━━━━━━━━━━━━━━━━━━━━━━━━━━━━━━━━━━━━━━━━\u001b[0m \u001b[32m635.6/635.6 kB\u001b[0m \u001b[31m5.6 MB/s\u001b[0m eta \u001b[36m0:00:00\u001b[0m\n",
      "\u001b[?25hDownloading qh3-1.5.4-cp37-abi3-macosx_10_12_x86_64.macosx_11_0_arm64.macosx_10_12_universal2.whl (4.5 MB)\n",
      "\u001b[2K   \u001b[90m━━━━━━━━━━━━━━━━━━━━━━━━━━━━━━━━━━━━━━━━\u001b[0m \u001b[32m4.5/4.5 MB\u001b[0m \u001b[31m7.4 MB/s\u001b[0m eta \u001b[36m0:00:00\u001b[0ma \u001b[36m0:00:01\u001b[0m\n",
      "\u001b[?25hInstalling collected packages: flatbuffers, wassima, qh3, openmeteo-sdk, jh2, h11, urllib3-future, niquests, openmeteo-requests\n",
      "Successfully installed flatbuffers-25.2.10 h11-0.16.0 jh2-5.0.9 niquests-3.15.2 openmeteo-requests-1.7.1 openmeteo-sdk-1.20.1 qh3-1.5.4 urllib3-future-2.13.905 wassima-2.0.1\n",
      "\n",
      "\u001b[1m[\u001b[0m\u001b[34;49mnotice\u001b[0m\u001b[1;39;49m]\u001b[0m\u001b[39;49m A new release of pip is available: \u001b[0m\u001b[31;49m24.3.1\u001b[0m\u001b[39;49m -> \u001b[0m\u001b[32;49m25.2\u001b[0m\n",
      "\u001b[1m[\u001b[0m\u001b[34;49mnotice\u001b[0m\u001b[1;39;49m]\u001b[0m\u001b[39;49m To update, run: \u001b[0m\u001b[32;49mpip install --upgrade pip\u001b[0m\n",
      "Collecting requests-cache\n",
      "  Downloading requests_cache-1.2.1-py3-none-any.whl.metadata (9.9 kB)\n",
      "Collecting retry-requests\n",
      "  Downloading retry_requests-2.0.0-py3-none-any.whl.metadata (2.6 kB)\n",
      "Collecting numpy\n",
      "  Downloading numpy-2.3.2-cp313-cp313-macosx_14_0_arm64.whl.metadata (62 kB)\n",
      "Collecting pandas\n",
      "  Downloading pandas-2.3.2-cp313-cp313-macosx_11_0_arm64.whl.metadata (91 kB)\n",
      "Requirement already satisfied: attrs>=21.2 in ./virtualenv/lib/python3.13/site-packages (from requests-cache) (25.3.0)\n",
      "Collecting cattrs>=22.2 (from requests-cache)\n",
      "  Downloading cattrs-25.1.1-py3-none-any.whl.metadata (8.4 kB)\n",
      "Requirement already satisfied: platformdirs>=2.5 in ./virtualenv/lib/python3.13/site-packages (from requests-cache) (4.3.8)\n",
      "Requirement already satisfied: requests>=2.22 in ./virtualenv/lib/python3.13/site-packages (from requests-cache) (2.32.5)\n",
      "Collecting url-normalize>=1.4 (from requests-cache)\n",
      "  Downloading url_normalize-2.2.1-py3-none-any.whl.metadata (5.6 kB)\n",
      "Requirement already satisfied: urllib3>=1.25.5 in ./virtualenv/lib/python3.13/site-packages (from requests-cache) (2.5.0)\n",
      "Requirement already satisfied: python-dateutil>=2.8.2 in ./virtualenv/lib/python3.13/site-packages (from pandas) (2.9.0.post0)\n",
      "Collecting pytz>=2020.1 (from pandas)\n",
      "  Downloading pytz-2025.2-py2.py3-none-any.whl.metadata (22 kB)\n",
      "Collecting tzdata>=2022.7 (from pandas)\n",
      "  Downloading tzdata-2025.2-py2.py3-none-any.whl.metadata (1.4 kB)\n",
      "Requirement already satisfied: typing-extensions>=4.12.2 in ./virtualenv/lib/python3.13/site-packages (from cattrs>=22.2->requests-cache) (4.14.1)\n",
      "Requirement already satisfied: six>=1.5 in ./virtualenv/lib/python3.13/site-packages (from python-dateutil>=2.8.2->pandas) (1.17.0)\n",
      "Requirement already satisfied: charset_normalizer<4,>=2 in ./virtualenv/lib/python3.13/site-packages (from requests>=2.22->requests-cache) (3.4.3)\n",
      "Requirement already satisfied: idna<4,>=2.5 in ./virtualenv/lib/python3.13/site-packages (from requests>=2.22->requests-cache) (3.10)\n",
      "Requirement already satisfied: certifi>=2017.4.17 in ./virtualenv/lib/python3.13/site-packages (from requests>=2.22->requests-cache) (2025.8.3)\n",
      "Downloading requests_cache-1.2.1-py3-none-any.whl (61 kB)\n",
      "Downloading retry_requests-2.0.0-py3-none-any.whl (15 kB)\n",
      "Downloading numpy-2.3.2-cp313-cp313-macosx_14_0_arm64.whl (5.1 MB)\n",
      "\u001b[2K   \u001b[90m━━━━━━━━━━━━━━━━━━━━━━━━━━━━━━━━━━━━━━━━\u001b[0m \u001b[32m5.1/5.1 MB\u001b[0m \u001b[31m2.9 MB/s\u001b[0m eta \u001b[36m0:00:00\u001b[0ma \u001b[36m0:00:01\u001b[0m\n",
      "\u001b[?25hDownloading pandas-2.3.2-cp313-cp313-macosx_11_0_arm64.whl (10.7 MB)\n",
      "\u001b[2K   \u001b[90m━━━━━━━━━━━━━━━━━━━━━━━━━━━━━━━━━━━━━━━━\u001b[0m \u001b[32m10.7/10.7 MB\u001b[0m \u001b[31m3.7 MB/s\u001b[0m eta \u001b[36m0:00:00\u001b[0ma \u001b[36m0:00:01\u001b[0m\n",
      "\u001b[?25hDownloading cattrs-25.1.1-py3-none-any.whl (69 kB)\n",
      "Downloading pytz-2025.2-py2.py3-none-any.whl (509 kB)\n",
      "Downloading tzdata-2025.2-py2.py3-none-any.whl (347 kB)\n",
      "Downloading url_normalize-2.2.1-py3-none-any.whl (14 kB)\n",
      "Installing collected packages: pytz, url-normalize, tzdata, numpy, cattrs, retry-requests, requests-cache, pandas\n",
      "Successfully installed cattrs-25.1.1 numpy-2.3.2 pandas-2.3.2 pytz-2025.2 requests-cache-1.2.1 retry-requests-2.0.0 tzdata-2025.2 url-normalize-2.2.1\n",
      "\n",
      "\u001b[1m[\u001b[0m\u001b[34;49mnotice\u001b[0m\u001b[1;39;49m]\u001b[0m\u001b[39;49m A new release of pip is available: \u001b[0m\u001b[31;49m24.3.1\u001b[0m\u001b[39;49m -> \u001b[0m\u001b[32;49m25.2\u001b[0m\n",
      "\u001b[1m[\u001b[0m\u001b[34;49mnotice\u001b[0m\u001b[1;39;49m]\u001b[0m\u001b[39;49m To update, run: \u001b[0m\u001b[32;49mpip install --upgrade pip\u001b[0m\n"
     ]
    }
   ],
   "source": [
    "! pip install openmeteo-requests\n",
    "! pip install requests-cache retry-requests numpy pandas"
   ]
  },
  {
   "cell_type": "code",
   "execution_count": 9,
   "id": "3233b2d5",
   "metadata": {},
   "outputs": [],
   "source": [
    "import openmeteo_requests\n",
    "\n",
    "import pandas as pd\n",
    "import requests_cache\n",
    "from retry_requests import retry"
   ]
  },
  {
   "cell_type": "code",
   "execution_count": 10,
   "id": "65699e8b",
   "metadata": {},
   "outputs": [],
   "source": [
    "# Setup the Open-Meteo API client with cache and retry on error\n",
    "cache_session = requests_cache.CachedSession('.cache', expire_after = -1)\n",
    "retry_session = retry(cache_session, retries = 5, backoff_factor = 0.2)\n",
    "openmeteo = openmeteo_requests.Client(session = retry_session)"
   ]
  },
  {
   "cell_type": "code",
   "execution_count": 31,
   "id": "7b6f782f",
   "metadata": {},
   "outputs": [],
   "source": [
    "# Make sure all required weather variables are listed here\n",
    "# The order of variables in hourly or daily is important to assign them correctly below\n",
    "url = \"https://archive-api.open-meteo.com/v1/archive\"\n",
    "params = {\n",
    "\t\"latitude\": 42.3555,\n",
    "\t\"longitude\": 71.0565,\n",
    "\t\"start_date\": \"2024-08-01\",\n",
    "\t\"end_date\": \"2025-08-22\",\n",
    "\t\"daily\": [\"temperature_2m_max\", \"temperature_2m_min\", \"precipitation_sum\"],\n",
    "\t\"timezone\": \"America/New_York\",\n",
    "}\n",
    "responses = openmeteo.weather_api(url, params=params)"
   ]
  },
  {
   "cell_type": "code",
   "execution_count": 32,
   "id": "1a67b727",
   "metadata": {},
   "outputs": [
    {
     "name": "stdout",
     "output_type": "stream",
     "text": [
      "Coordinates: 42.35500717163086°N 71.1290283203125°E\n",
      "Elevation: 2756.0 m asl\n",
      "Timezone: b'America/New_York'b'GMT-4'\n",
      "Timezone difference to GMT+0: -14400s\n"
     ]
    }
   ],
   "source": [
    "# Process first location. Add a for-loop for multiple locations or weather models\n",
    "response = responses[0]\n",
    "print(f\"Coordinates: {response.Latitude()}°N {response.Longitude()}°E\")\n",
    "print(f\"Elevation: {response.Elevation()} m asl\")\n",
    "print(f\"Timezone: {response.Timezone()}{response.TimezoneAbbreviation()}\")\n",
    "print(f\"Timezone difference to GMT+0: {response.UtcOffsetSeconds()}s\")"
   ]
  },
  {
   "cell_type": "code",
   "execution_count": 33,
   "id": "1ff57834",
   "metadata": {},
   "outputs": [],
   "source": [
    "# Process daily data. The order of variables needs to be the same as requested.\n",
    "daily = response.Daily()\n",
    "daily_temperature_2m_max = daily.Variables(0).ValuesAsNumpy()\n",
    "daily_temperature_2m_min = daily.Variables(1).ValuesAsNumpy()\n",
    "daily_precipitation_sum = daily.Variables(2).ValuesAsNumpy()\n"
   ]
  },
  {
   "cell_type": "code",
   "execution_count": 34,
   "id": "d416c48f",
   "metadata": {},
   "outputs": [],
   "source": [
    "daily_data = {\"date\": pd.date_range(\n",
    "\tstart = pd.to_datetime(daily.Time(), unit = \"s\", utc = True),\n",
    "\tend = pd.to_datetime(daily.TimeEnd(), unit = \"s\", utc = True),\n",
    "\tfreq = pd.Timedelta(seconds = daily.Interval()),\n",
    "\tinclusive = \"left\"\n",
    ")}"
   ]
  },
  {
   "cell_type": "code",
   "execution_count": 35,
   "id": "0b008d9e",
   "metadata": {},
   "outputs": [
    {
     "name": "stdout",
     "output_type": "stream",
     "text": [
      "<class 'dict'>\n"
     ]
    }
   ],
   "source": [
    "print(type(daily_data))"
   ]
  },
  {
   "cell_type": "code",
   "execution_count": 36,
   "id": "58af0b8e",
   "metadata": {},
   "outputs": [],
   "source": [
    "daily_data[\"temperature_2m_max\"] = daily_temperature_2m_max\n",
    "daily_data[\"temperature_2m_min\"] = daily_temperature_2m_min\n",
    "daily_data[\"precipitation_sum\"] = daily_precipitation_sum"
   ]
  },
  {
   "cell_type": "code",
   "execution_count": 38,
   "id": "ea214d9e",
   "metadata": {},
   "outputs": [],
   "source": [
    "daily_dataframe = pd.DataFrame(data = daily_data)\n"
   ]
  },
  {
   "cell_type": "code",
   "execution_count": 39,
   "id": "dd39e769",
   "metadata": {},
   "outputs": [
    {
     "data": {
      "text/html": [
       "<div>\n",
       "<style scoped>\n",
       "    .dataframe tbody tr th:only-of-type {\n",
       "        vertical-align: middle;\n",
       "    }\n",
       "\n",
       "    .dataframe tbody tr th {\n",
       "        vertical-align: top;\n",
       "    }\n",
       "\n",
       "    .dataframe thead th {\n",
       "        text-align: right;\n",
       "    }\n",
       "</style>\n",
       "<table border=\"1\" class=\"dataframe\">\n",
       "  <thead>\n",
       "    <tr style=\"text-align: right;\">\n",
       "      <th></th>\n",
       "      <th>date</th>\n",
       "      <th>temperature_2m_max</th>\n",
       "      <th>temperature_2m_min</th>\n",
       "      <th>precipitation_sum</th>\n",
       "    </tr>\n",
       "  </thead>\n",
       "  <tbody>\n",
       "    <tr>\n",
       "      <th>0</th>\n",
       "      <td>2024-08-01 04:00:00+00:00</td>\n",
       "      <td>19.723501</td>\n",
       "      <td>11.3735</td>\n",
       "      <td>3.2</td>\n",
       "    </tr>\n",
       "    <tr>\n",
       "      <th>1</th>\n",
       "      <td>2024-08-02 04:00:00+00:00</td>\n",
       "      <td>19.223501</td>\n",
       "      <td>8.9235</td>\n",
       "      <td>1.1</td>\n",
       "    </tr>\n",
       "    <tr>\n",
       "      <th>2</th>\n",
       "      <td>2024-08-03 04:00:00+00:00</td>\n",
       "      <td>16.123501</td>\n",
       "      <td>7.9235</td>\n",
       "      <td>0.3</td>\n",
       "    </tr>\n",
       "    <tr>\n",
       "      <th>3</th>\n",
       "      <td>2024-08-04 04:00:00+00:00</td>\n",
       "      <td>16.573502</td>\n",
       "      <td>10.1235</td>\n",
       "      <td>3.9</td>\n",
       "    </tr>\n",
       "    <tr>\n",
       "      <th>4</th>\n",
       "      <td>2024-08-05 04:00:00+00:00</td>\n",
       "      <td>16.273500</td>\n",
       "      <td>8.3735</td>\n",
       "      <td>0.4</td>\n",
       "    </tr>\n",
       "  </tbody>\n",
       "</table>\n",
       "</div>"
      ],
      "text/plain": [
       "                       date  temperature_2m_max  temperature_2m_min  \\\n",
       "0 2024-08-01 04:00:00+00:00           19.723501             11.3735   \n",
       "1 2024-08-02 04:00:00+00:00           19.223501              8.9235   \n",
       "2 2024-08-03 04:00:00+00:00           16.123501              7.9235   \n",
       "3 2024-08-04 04:00:00+00:00           16.573502             10.1235   \n",
       "4 2024-08-05 04:00:00+00:00           16.273500              8.3735   \n",
       "\n",
       "   precipitation_sum  \n",
       "0                3.2  \n",
       "1                1.1  \n",
       "2                0.3  \n",
       "3                3.9  \n",
       "4                0.4  "
      ]
     },
     "execution_count": 39,
     "metadata": {},
     "output_type": "execute_result"
    }
   ],
   "source": [
    "daily_dataframe.head(n=5)"
   ]
  }
 ],
 "metadata": {
  "kernelspec": {
   "display_name": "virtualenv",
   "language": "python",
   "name": "python3"
  },
  "language_info": {
   "codemirror_mode": {
    "name": "ipython",
    "version": 3
   },
   "file_extension": ".py",
   "mimetype": "text/x-python",
   "name": "python",
   "nbconvert_exporter": "python",
   "pygments_lexer": "ipython3",
   "version": "3.13.1"
  }
 },
 "nbformat": 4,
 "nbformat_minor": 5
}

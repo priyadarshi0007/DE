{
 "cells": [
  {
   "cell_type": "code",
   "execution_count": 23,
   "id": "3233b2d5",
   "metadata": {},
   "outputs": [
    {
     "name": "stdout",
     "output_type": "stream",
     "text": [
      "Latitude: 42.3554334, Longitude: -71.060511\n",
      "The date 5 years ago from 2025-08-24 was: 2020-08-24\n"
     ]
    }
   ],
   "source": [
    "import openmeteo_requests\n",
    "import pandas as pd\n",
    "import requests_cache\n",
    "from retry_requests import retry\n",
    "from city_time_interval import latitude, longitude, start_date, end_date\n"
   ]
  },
  {
   "cell_type": "code",
   "execution_count": 24,
   "id": "65699e8b",
   "metadata": {},
   "outputs": [],
   "source": [
    "# Setup the Open-Meteo API client with cache and retry on error\n",
    "cache_session = requests_cache.CachedSession('.cache', expire_after = -1)\n",
    "retry_session = retry(cache_session, retries = 5, backoff_factor = 0.2)\n",
    "openmeteo = openmeteo_requests.Client(session = retry_session)"
   ]
  },
  {
   "cell_type": "code",
   "execution_count": 25,
   "id": "7b6f782f",
   "metadata": {},
   "outputs": [],
   "source": [
    "# Make sure all required weather variables are listed here\n",
    "# The order of variables in hourly or daily is important to assign them correctly below\n",
    "url = \"https://archive-api.open-meteo.com/v1/archive\"\n",
    "params = {\n",
    "\t\"latitude\": latitude,\n",
    "\t\"longitude\": longitude,\n",
    "\t\"start_date\": start_date,\n",
    "\t\"end_date\": end_date,\n",
    "\t\"daily\": [\"temperature_2m_max\", \"temperature_2m_min\", \"precipitation_sum\"],\n",
    "\t\"timezone\": \"America/New_York\",\n",
    "}\n",
    "responses = openmeteo.weather_api(url, params=params)"
   ]
  },
  {
   "cell_type": "code",
   "execution_count": 26,
   "id": "1a67b727",
   "metadata": {},
   "outputs": [
    {
     "name": "stdout",
     "output_type": "stream",
     "text": [
      "Coordinates: 42.35500717163086°N -71.12905883789062°E\n",
      "Elevation: 10.0 m asl\n",
      "Timezone: b'America/New_York'b'GMT-4'\n",
      "Timezone difference to GMT+0: -14400s\n"
     ]
    }
   ],
   "source": [
    "# Process first location. Add a for-loop for multiple locations or weather models\n",
    "response = responses[0]\n",
    "print(f\"Coordinates: {response.Latitude()}°N {response.Longitude()}°E\")\n",
    "print(f\"Elevation: {response.Elevation()} m asl\")\n",
    "print(f\"Timezone: {response.Timezone()}{response.TimezoneAbbreviation()}\")\n",
    "print(f\"Timezone difference to GMT+0: {response.UtcOffsetSeconds()}s\")"
   ]
  },
  {
   "cell_type": "code",
   "execution_count": 27,
   "id": "1ff57834",
   "metadata": {},
   "outputs": [],
   "source": [
    "# Process daily data. The order of variables needs to be the same as requested.\n",
    "daily = response.Daily()\n",
    "daily_temperature_2m_max = daily.Variables(0).ValuesAsNumpy()\n",
    "daily_temperature_2m_min = daily.Variables(1).ValuesAsNumpy()\n",
    "daily_precipitation_sum = daily.Variables(2).ValuesAsNumpy()\n"
   ]
  },
  {
   "cell_type": "code",
   "execution_count": 28,
   "id": "d416c48f",
   "metadata": {},
   "outputs": [],
   "source": [
    "daily_data = {\"date\": pd.date_range(\n",
    "\tstart = pd.to_datetime(daily.Time(), unit = \"s\", utc = True),\n",
    "\tend = pd.to_datetime(daily.TimeEnd(), unit = \"s\", utc = True),\n",
    "\tfreq = pd.Timedelta(seconds = daily.Interval()),\n",
    "\tinclusive = \"left\"\n",
    ")}"
   ]
  },
  {
   "cell_type": "code",
   "execution_count": 29,
   "id": "0b008d9e",
   "metadata": {},
   "outputs": [
    {
     "name": "stdout",
     "output_type": "stream",
     "text": [
      "<class 'dict'>\n"
     ]
    }
   ],
   "source": [
    "print(type(daily_data))"
   ]
  },
  {
   "cell_type": "code",
   "execution_count": 30,
   "id": "58af0b8e",
   "metadata": {},
   "outputs": [],
   "source": [
    "daily_data[\"temperature_2m_max\"] = daily_temperature_2m_max\n",
    "daily_data[\"temperature_2m_min\"] = daily_temperature_2m_min\n",
    "daily_data[\"precipitation_sum\"] = daily_precipitation_sum"
   ]
  },
  {
   "cell_type": "code",
   "execution_count": 31,
   "id": "ea214d9e",
   "metadata": {},
   "outputs": [],
   "source": [
    "daily_dataframe = pd.DataFrame(data = daily_data)\n",
    "daily_dataframe[\"date\"] = daily_dataframe[\"date\"].dt.date\n"
   ]
  },
  {
   "cell_type": "code",
   "execution_count": 32,
   "id": "dd39e769",
   "metadata": {},
   "outputs": [
    {
     "data": {
      "text/html": [
       "<div>\n",
       "<style scoped>\n",
       "    .dataframe tbody tr th:only-of-type {\n",
       "        vertical-align: middle;\n",
       "    }\n",
       "\n",
       "    .dataframe tbody tr th {\n",
       "        vertical-align: top;\n",
       "    }\n",
       "\n",
       "    .dataframe thead th {\n",
       "        text-align: right;\n",
       "    }\n",
       "</style>\n",
       "<table border=\"1\" class=\"dataframe\">\n",
       "  <thead>\n",
       "    <tr style=\"text-align: right;\">\n",
       "      <th></th>\n",
       "      <th>date</th>\n",
       "      <th>temperature_2m_max</th>\n",
       "      <th>temperature_2m_min</th>\n",
       "      <th>precipitation_sum</th>\n",
       "    </tr>\n",
       "  </thead>\n",
       "  <tbody>\n",
       "    <tr>\n",
       "      <th>0</th>\n",
       "      <td>2020-08-24</td>\n",
       "      <td>31.990999</td>\n",
       "      <td>20.941000</td>\n",
       "      <td>2.0</td>\n",
       "    </tr>\n",
       "    <tr>\n",
       "      <th>1</th>\n",
       "      <td>2020-08-25</td>\n",
       "      <td>32.690998</td>\n",
       "      <td>21.341000</td>\n",
       "      <td>0.2</td>\n",
       "    </tr>\n",
       "    <tr>\n",
       "      <th>2</th>\n",
       "      <td>2020-08-26</td>\n",
       "      <td>24.941000</td>\n",
       "      <td>15.790999</td>\n",
       "      <td>0.0</td>\n",
       "    </tr>\n",
       "    <tr>\n",
       "      <th>3</th>\n",
       "      <td>2020-08-27</td>\n",
       "      <td>22.890999</td>\n",
       "      <td>14.040999</td>\n",
       "      <td>15.4</td>\n",
       "    </tr>\n",
       "    <tr>\n",
       "      <th>4</th>\n",
       "      <td>2020-08-28</td>\n",
       "      <td>27.091000</td>\n",
       "      <td>15.341000</td>\n",
       "      <td>0.0</td>\n",
       "    </tr>\n",
       "  </tbody>\n",
       "</table>\n",
       "</div>"
      ],
      "text/plain": [
       "         date  temperature_2m_max  temperature_2m_min  precipitation_sum\n",
       "0  2020-08-24           31.990999           20.941000                2.0\n",
       "1  2020-08-25           32.690998           21.341000                0.2\n",
       "2  2020-08-26           24.941000           15.790999                0.0\n",
       "3  2020-08-27           22.890999           14.040999               15.4\n",
       "4  2020-08-28           27.091000           15.341000                0.0"
      ]
     },
     "execution_count": 32,
     "metadata": {},
     "output_type": "execute_result"
    }
   ],
   "source": [
    "daily_dataframe.head(n=5)"
   ]
  }
 ],
 "metadata": {
  "kernelspec": {
   "display_name": "virtualenv",
   "language": "python",
   "name": "python3"
  },
  "language_info": {
   "codemirror_mode": {
    "name": "ipython",
    "version": 3
   },
   "file_extension": ".py",
   "mimetype": "text/x-python",
   "name": "python",
   "nbconvert_exporter": "python",
   "pygments_lexer": "ipython3",
   "version": "3.13.1"
  }
 },
 "nbformat": 4,
 "nbformat_minor": 5
}

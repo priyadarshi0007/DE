{
 "cells": [
  {
   "cell_type": "code",
   "execution_count": 25,
   "id": "99f7d9a9",
   "metadata": {},
   "outputs": [],
   "source": [
    "import requests\n",
    "import pandas as pd\n",
    "from city_time_interval import year"
   ]
  },
  {
   "cell_type": "code",
   "execution_count": 26,
   "id": "d61e20e3",
   "metadata": {},
   "outputs": [
    {
     "name": "stdout",
     "output_type": "stream",
     "text": [
      "successfully hit the API\n",
      "[{'date': '2025-01-01', 'localName': 'Neujahr', 'name': \"New Year's Day\", 'countryCode': 'AT', 'fixed': False, 'global': True, 'counties': None, 'launchYear': None, 'types': ['Public']}, {'date': '2025-01-06', 'localName': 'Heilige Drei Könige', 'name': 'Epiphany', 'countryCode': 'AT', 'fixed': False, 'global': True, 'counties': None, 'launchYear': None, 'types': ['Public']}, {'date': '2025-04-20', 'localName': 'Ostersonntag', 'name': 'Easter Sunday', 'countryCode': 'AT', 'fixed': False, 'global': True, 'counties': None, 'launchYear': None, 'types': ['Public']}, {'date': '2025-04-21', 'localName': 'Ostermontag', 'name': 'Easter Monday', 'countryCode': 'AT', 'fixed': False, 'global': True, 'counties': None, 'launchYear': None, 'types': ['Public']}, {'date': '2025-05-01', 'localName': 'Staatsfeiertag', 'name': 'National Holiday', 'countryCode': 'AT', 'fixed': False, 'global': True, 'counties': None, 'launchYear': None, 'types': ['Public']}, {'date': '2025-05-29', 'localName': 'Christi Himmelfahrt', 'name': 'Ascension Day', 'countryCode': 'AT', 'fixed': False, 'global': True, 'counties': None, 'launchYear': None, 'types': ['Public']}, {'date': '2025-06-08', 'localName': 'Pfingstsonntag', 'name': 'Pentecost', 'countryCode': 'AT', 'fixed': False, 'global': True, 'counties': None, 'launchYear': None, 'types': ['Public']}, {'date': '2025-06-09', 'localName': 'Pfingstmontag', 'name': 'Whit Monday', 'countryCode': 'AT', 'fixed': False, 'global': True, 'counties': None, 'launchYear': None, 'types': ['Public']}, {'date': '2025-06-19', 'localName': 'Fronleichnam', 'name': 'Corpus Christi', 'countryCode': 'AT', 'fixed': False, 'global': True, 'counties': None, 'launchYear': None, 'types': ['Public']}, {'date': '2025-08-15', 'localName': 'Maria Himmelfahrt', 'name': 'Assumption Day', 'countryCode': 'AT', 'fixed': False, 'global': True, 'counties': None, 'launchYear': None, 'types': ['Public']}, {'date': '2025-10-26', 'localName': 'Nationalfeiertag', 'name': 'National Holiday', 'countryCode': 'AT', 'fixed': False, 'global': True, 'counties': None, 'launchYear': None, 'types': ['Public']}, {'date': '2025-11-01', 'localName': 'Allerheiligen', 'name': \"All Saints' Day\", 'countryCode': 'AT', 'fixed': False, 'global': True, 'counties': None, 'launchYear': None, 'types': ['Public']}, {'date': '2025-12-08', 'localName': 'Mariä Empfängnis', 'name': 'Immaculate Conception', 'countryCode': 'AT', 'fixed': False, 'global': True, 'counties': None, 'launchYear': None, 'types': ['Public']}, {'date': '2025-12-25', 'localName': 'Weihnachten', 'name': 'Christmas Day', 'countryCode': 'AT', 'fixed': False, 'global': True, 'counties': None, 'launchYear': None, 'types': ['Public']}, {'date': '2025-12-26', 'localName': 'Stefanitag', 'name': \"St. Stephen's Day\", 'countryCode': 'AT', 'fixed': False, 'global': True, 'counties': None, 'launchYear': None, 'types': ['Public']}]\n"
     ]
    }
   ],
   "source": [
    "response = requests.get('https://date.nager.at/api/v3/publicholidays/2025/AT')\n",
    "try:\n",
    "    response.raise_for_status()  # Raise an error for HTTP errors\n",
    "    print(\"successfully hit the API\")\n",
    "    response_data = response.json()\n",
    "    print(response_data)\n",
    "except requests.RequestException as e:\n",
    "    print(\"Failed to retrieve data:\", e)"
   ]
  },
  {
   "cell_type": "code",
   "execution_count": 27,
   "id": "96cf9969",
   "metadata": {},
   "outputs": [],
   "source": [
    "country = \"US\"\n",
    "years = year\n",
    "all_holidays = {}"
   ]
  },
  {
   "cell_type": "code",
   "execution_count": 28,
   "id": "e9dec656",
   "metadata": {},
   "outputs": [],
   "source": [
    "for year in years:\n",
    "    url = f'https://date.nager.at/api/v3/publicholidays/{year}/{country}'\n",
    "    try:\n",
    "        response = requests.get(url)\n",
    "        response.raise_for_status()\n",
    "        holidays = response.json()\n",
    "        all_holidays[year] = holidays\n",
    "    except requests.RequestException as e:\n",
    "        print(f\"Failed to retrieve data for {year}: {e}\")"
   ]
  },
  {
   "cell_type": "code",
   "execution_count": 29,
   "id": "281d0230",
   "metadata": {},
   "outputs": [
    {
     "name": "stdout",
     "output_type": "stream",
     "text": [
      "<class 'dict'>\n",
      "<class 'list'>\n",
      "<class 'dict'>\n"
     ]
    }
   ],
   "source": [
    "print(type(all_holidays))  # dict\n",
    "print(type(all_holidays[2024]))  # list\n",
    "print(type(all_holidays[2024][0]))  # dict"
   ]
  },
  {
   "cell_type": "code",
   "execution_count": 30,
   "id": "4e864ab8",
   "metadata": {},
   "outputs": [],
   "source": [
    "records = []\n",
    "for year, holidays in all_holidays.items():\n",
    "    for holiday in holidays:\n",
    "        # Add year column + flatten lists (like 'types')\n",
    "        if holiday[\"counties\"] is None or \"US-MA\" in (holiday[\"counties\"] or []):\n",
    "            flat = holiday.copy()\n",
    "            flat[\"year\"] = year\n",
    "            flat[\"types\"] = \", \".join(flat[\"types\"]) if flat[\"types\"] else None\n",
    "            flat[\"counties\"] = \", \".join(flat[\"counties\"]) if flat[\"counties\"] else None\n",
    "            records.append(flat)\n",
    "\n",
    "df = pd.DataFrame(records)"
   ]
  },
  {
   "cell_type": "code",
   "execution_count": 31,
   "id": "0cac42ea",
   "metadata": {},
   "outputs": [],
   "source": [
    "\n",
    "drop_cols = [\"launchYear\", \"types\", \"counties\", \"global\",\"fixed\",\"countryCode\"]\n",
    "df_cleaned = df.drop(columns=drop_cols)"
   ]
  },
  {
   "cell_type": "code",
   "execution_count": 33,
   "id": "66107bea",
   "metadata": {},
   "outputs": [
    {
     "data": {
      "text/plain": [
       "65"
      ]
     },
     "execution_count": 33,
     "metadata": {},
     "output_type": "execute_result"
    }
   ],
   "source": [
    "len(df_cleaned)"
   ]
  }
 ],
 "metadata": {
  "kernelspec": {
   "display_name": "virtualenv",
   "language": "python",
   "name": "python3"
  },
  "language_info": {
   "codemirror_mode": {
    "name": "ipython",
    "version": 3
   },
   "file_extension": ".py",
   "mimetype": "text/x-python",
   "name": "python",
   "nbconvert_exporter": "python",
   "pygments_lexer": "ipython3",
   "version": "3.13.1"
  }
 },
 "nbformat": 4,
 "nbformat_minor": 5
}
